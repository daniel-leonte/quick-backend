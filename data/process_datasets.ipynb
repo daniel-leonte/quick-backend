{
 "cells": [
  {
   "cell_type": "code",
   "execution_count": 1,
   "metadata": {},
   "outputs": [],
   "source": [
    "import pandas as pd\n",
    "from pymongo import MongoClient"
   ]
  },
  {
   "cell_type": "code",
   "execution_count": 2,
   "metadata": {},
   "outputs": [
    {
     "name": "stdout",
     "output_type": "stream",
     "text": [
      "                                           job_title            company  \\\n",
      "0                               C# Software Engineer       E Tech Group   \n",
      "1                   Software Implementation Engineer             Kardex   \n",
      "2  Senior Software Engineer, Back End (Go, AWS, J...  Jobs for Humanity   \n",
      "3   Senior Manager, Software Engineering, Full Stack  Jobs for Humanity   \n",
      "4  Lead Software Engineer, Full Stack(JavaScript/...  Jobs for Humanity   \n",
      "\n",
      "       job_location                                           job_link  \\\n",
      "0  West Chester, OH  https://www.linkedin.com/jobs/view/c%23-softwa...   \n",
      "1    Cincinnati, OH  https://www.linkedin.com/jobs/view/software-im...   \n",
      "2   Chattanooga, TN  https://www.linkedin.com/jobs/view/senior-soft...   \n",
      "3   Chattanooga, TN  https://www.linkedin.com/jobs/view/senior-mana...   \n",
      "4   Chattanooga, TN  https://www.linkedin.com/jobs/view/lead-softwa...   \n",
      "\n",
      "   first_seen  search_city search_country   job level job_type  \\\n",
      "0  2023-12-25    Covington  United States   Associate   Remote   \n",
      "1  2023-12-25    Covington  United States   Associate   Remote   \n",
      "2  2023-12-25  Chattanooga  United States  Mid senior   Onsite   \n",
      "3  2023-12-25  Chattanooga  United States  Mid senior   Onsite   \n",
      "4  2023-12-25  Chattanooga  United States  Mid senior   Onsite   \n",
      "\n",
      "                                         job_summary  \\\n",
      "0  At E Tech Group, joining our team means joinin...   \n",
      "1  Kardex Remstar is looking for a\\nSoftware Impl...   \n",
      "2  Company Description\\nJobs for Humanity is part...   \n",
      "3  Company Description\\nJobs for Humanity is part...   \n",
      "4  Company Description\\nJobs for Humanity is part...   \n",
      "\n",
      "                                          job_skills  \n",
      "0  C#, .NET, WPF, ASP.NET MVC, WebAPI, C++, Progr...  \n",
      "1  Software Implementation, Software Testing, Sof...  \n",
      "2  Java, Python, SQL, Node.js, Go, Scala, AWS, GC...  \n",
      "3  JavaScript, Java, TypeScript, SQL, Python, Go,...  \n",
      "4  JavaScript, Java, AWS, Vue.js, HTML/CSS, TypeS...  \n",
      "Index(['job_title', 'company', 'job_location', 'job_link', 'first_seen',\n",
      "       'search_city', 'search_country', 'job level', 'job_type', 'job_summary',\n",
      "       'job_skills'],\n",
      "      dtype='object')\n",
      "<class 'pandas.core.frame.DataFrame'>\n",
      "RangeIndex: 9380 entries, 0 to 9379\n",
      "Data columns (total 11 columns):\n",
      " #   Column          Non-Null Count  Dtype \n",
      "---  ------          --------------  ----- \n",
      " 0   job_title       9380 non-null   object\n",
      " 1   company         9380 non-null   object\n",
      " 2   job_location    9380 non-null   object\n",
      " 3   job_link        9380 non-null   object\n",
      " 4   first_seen      9380 non-null   object\n",
      " 5   search_city     9380 non-null   object\n",
      " 6   search_country  9380 non-null   object\n",
      " 7   job level       9380 non-null   object\n",
      " 8   job_type        9380 non-null   object\n",
      " 9   job_summary     9376 non-null   object\n",
      " 10  job_skills      9367 non-null   object\n",
      "dtypes: object(11)\n",
      "memory usage: 806.2+ KB\n",
      "None\n",
      "                       job_title            company       job_location  \\\n",
      "count                       9380               9380               9380   \n",
      "unique                      3870               3373               1618   \n",
      "top     Senior Software Engineer  Jobs for Humanity  San Francisco, CA   \n",
      "freq                         794                681                133   \n",
      "\n",
      "                                                 job_link  first_seen  \\\n",
      "count                                                9380        9380   \n",
      "unique                                               9380           1   \n",
      "top     https://www.linkedin.com/jobs/view/c%23-softwa...  2023-12-25   \n",
      "freq                                                    1        9380   \n",
      "\n",
      "       search_city search_country   job level job_type  \\\n",
      "count         9380           9380        9380     9380   \n",
      "unique         709              4           2        3   \n",
      "top         Novato  United States  Mid senior   Onsite   \n",
      "freq            92           7335        8101     4316   \n",
      "\n",
      "                                              job_summary  \\\n",
      "count                                                9376   \n",
      "unique                                               7763   \n",
      "top     For more than 50 years, NISC has worked to dev...   \n",
      "freq                                                   62   \n",
      "\n",
      "                                               job_skills  \n",
      "count                                                9367  \n",
      "unique                                               9340  \n",
      "top     Java, Python, SQL, Node, Go, Scala, AWS, GCP, ...  \n",
      "freq                                                    3  \n",
      "(9380, 11)\n"
     ]
    }
   ],
   "source": [
    "csv_file = './postings.csv'\n",
    "df = pd.read_csv(csv_file)\n",
    "\n",
    "print(df.head())\n",
    "\n",
    "print(df.columns)\n",
    "\n",
    "print(df.info())\n",
    "\n",
    "print(df.describe())\n",
    "\n",
    "print(df.shape)"
   ]
  },
  {
   "cell_type": "code",
   "execution_count": null,
   "metadata": {},
   "outputs": [],
   "source": [
    "# load connection string from env file\n",
    "import os\n",
    "import dotenv\n",
    "\n",
    "# load env file\n",
    "dotenv.load_dotenv()\n",
    "\n",
    "# Connect to MongoDB\n",
    "client = MongoClient(os.getenv('MONGODB_URI'))\n",
    "\n",
    "print(client.list_database_names())"
   ]
  },
  {
   "cell_type": "code",
   "execution_count": 6,
   "metadata": {},
   "outputs": [],
   "source": [
    "# Database and collection\n",
    "db = client['job_postings_db']  # Create/use database\n",
    "collection = db['linkedin_jobs']  # Create/use collection"
   ]
  },
  {
   "cell_type": "code",
   "execution_count": 7,
   "metadata": {},
   "outputs": [
    {
     "name": "stdout",
     "output_type": "stream",
     "text": [
      "9380\n"
     ]
    }
   ],
   "source": [
    "# convert DataFrame to list of dictionaries\n",
    "df_list = df.to_dict(orient='records')\n",
    "\n",
    "# insert list of dictionaries into MongoDB\n",
    "collection.insert_many(df_list)\n",
    "\n",
    "# print number of documents in collection\n",
    "print(collection.count_documents({}))"
   ]
  },
  {
   "cell_type": "code",
   "execution_count": 8,
   "metadata": {},
   "outputs": [],
   "source": [
    "client.close()"
   ]
  },
  {
   "cell_type": "code",
   "execution_count": null,
   "metadata": {},
   "outputs": [],
   "source": []
  }
 ],
 "metadata": {
  "kernelspec": {
   "display_name": "venv",
   "language": "python",
   "name": "python3"
  },
  "language_info": {
   "codemirror_mode": {
    "name": "ipython",
    "version": 3
   },
   "file_extension": ".py",
   "mimetype": "text/x-python",
   "name": "python",
   "nbconvert_exporter": "python",
   "pygments_lexer": "ipython3",
   "version": "3.13.4"
  }
 },
 "nbformat": 4,
 "nbformat_minor": 2
}
